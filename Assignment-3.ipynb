{
 "cells": [
  {
   "cell_type": "markdown",
   "metadata": {},
   "source": [
    "## Assignment-3"
   ]
  },
  {
   "cell_type": "markdown",
   "metadata": {},
   "source": [
    "#### 1. Temperature Problem\n",
    "Create a Temperature class.Make two methods:\n",
    "convertFrahrenheit - It will take celsius and will print it into Fahrenheit.\n",
    "\n",
    "convertCelsius - It will take Fahrenheit and will convert it into Celsius"
   ]
  },
  {
   "cell_type": "code",
   "execution_count": 1,
   "metadata": {},
   "outputs": [],
   "source": [
    "class Temprature:\n",
    "    def __init__(self,celsius,fahrenheit):\n",
    "        self.celsius = celsius\n",
    "        self.fahrenheit = fahrenheit\n",
    "        \n",
    "    def convertFahrenheit(self):\n",
    "        F = self.celsius * (9/5) + 32\n",
    "        return F\n",
    "    \n",
    "    def convertCelsius(self):\n",
    "        C = (5/9) * (self.fahrenheit - 32)\n",
    "        return C"
   ]
  },
  {
   "cell_type": "code",
   "execution_count": 11,
   "metadata": {},
   "outputs": [
    {
     "data": {
      "text/plain": [
       "86.0"
      ]
     },
     "execution_count": 11,
     "metadata": {},
     "output_type": "execute_result"
    }
   ],
   "source": [
    "Tem = Temprature(30,10)\n",
    "Tem.convertFahrenheit()"
   ]
  },
  {
   "cell_type": "code",
   "execution_count": 18,
   "metadata": {},
   "outputs": [],
   "source": [
    "tem1 = Temprature(30,62)"
   ]
  },
  {
   "cell_type": "code",
   "execution_count": 19,
   "metadata": {},
   "outputs": [
    {
     "data": {
      "text/plain": [
       "86.0"
      ]
     },
     "execution_count": 19,
     "metadata": {},
     "output_type": "execute_result"
    }
   ],
   "source": [
    "tem1.convertFahrenheit()"
   ]
  },
  {
   "cell_type": "code",
   "execution_count": 20,
   "metadata": {},
   "outputs": [
    {
     "data": {
      "text/plain": [
       "16.666666666666668"
      ]
     },
     "execution_count": 20,
     "metadata": {},
     "output_type": "execute_result"
    }
   ],
   "source": [
    "tem1.convertCelsius()"
   ]
  },
  {
   "cell_type": "markdown",
   "metadata": {},
   "source": [
    "### 2.  Time Problem\n",
    "Create a Time class initialize it with hours and minutes.\n",
    "\n",
    "1.Make a method addTime which should take two time object and add them.\n",
    "2.Make a method displayTime which should print the time\n",
    "3.Make a method DisplayMinute which should display the total minutes in the Time should display 62 minute"
   ]
  },
  {
   "cell_type": "code",
   "execution_count": 6,
   "metadata": {},
   "outputs": [],
   "source": [
    "import math  \n",
    "class Time:\n",
    "    def __init__(self,hours,minutes):\n",
    "        self.hours = hours\n",
    "        self.minutes = minutes\n",
    "        #self.hour = 0\n",
    "        #self.mins = 0\n",
    "        \n",
    "    def addTime(self,ob):\n",
    "        \n",
    "        if(ob.hours < 1) or (self.hours < 1):\n",
    "            \n",
    "            a = (ob.hours + self.hours)*60\n",
    "            b = (ob.minutes + self.minutes) - 60\n",
    "            h = (a + b)/60\n",
    "            hour = math.ceil(h)\n",
    "            \n",
    "            if(self.hours < 1):\n",
    "                mins = self.hours + b\n",
    "                \n",
    "            else:\n",
    "                mins = ob.hours + b\n",
    "                \n",
    "                \n",
    "        else:\n",
    "            hour = ob.hours + self.hours\n",
    "            mins = ob.minutes + self.minutes\n",
    "            \n",
    "        print(hour,\"hr and \",mins,\"min\")\n",
    "            \n",
    "    def displayTime(self):\n",
    "        print(self.hours,\"hr and \",self.minutes,\"min\")\n",
    "        \n",
    "    def DisplayMinute(self):\n",
    "        h = self.hours * 60\n",
    "        total_min = h + self.minutes\n",
    "        return total_min"
   ]
  },
  {
   "cell_type": "code",
   "execution_count": 24,
   "metadata": {},
   "outputs": [
    {
     "name": "stdout",
     "output_type": "stream",
     "text": [
      "4 hr and  25 min\n"
     ]
    }
   ],
   "source": [
    "t1 = Time(0,45)\n",
    "t2 = Time(3,40)\n",
    "t2.addTime(t1)"
   ]
  },
  {
   "cell_type": "code",
   "execution_count": 26,
   "metadata": {},
   "outputs": [
    {
     "name": "stdout",
     "output_type": "stream",
     "text": [
      "0 hr and  45 min\n"
     ]
    }
   ],
   "source": [
    "t1.displayTime()"
   ]
  },
  {
   "cell_type": "code",
   "execution_count": 27,
   "metadata": {},
   "outputs": [
    {
     "data": {
      "text/plain": [
       "45"
      ]
     },
     "execution_count": 27,
     "metadata": {},
     "output_type": "execute_result"
    }
   ],
   "source": [
    "\n",
    "t1.DisplayMinute()"
   ]
  },
  {
   "cell_type": "code",
   "execution_count": 29,
   "metadata": {},
   "outputs": [
    {
     "data": {
      "text/plain": [
       "220"
      ]
     },
     "execution_count": 29,
     "metadata": {},
     "output_type": "execute_result"
    }
   ],
   "source": [
    "t2.DisplayMinute()"
   ]
  }
 ],
 "metadata": {
  "kernelspec": {
   "display_name": "Python 3.10.7 ('test': venv)",
   "language": "python",
   "name": "python3"
  },
  "language_info": {
   "codemirror_mode": {
    "name": "ipython",
    "version": 3
   },
   "file_extension": ".py",
   "mimetype": "text/x-python",
   "name": "python",
   "nbconvert_exporter": "python",
   "pygments_lexer": "ipython3",
   "version": "3.10.7"
  },
  "orig_nbformat": 4,
  "vscode": {
   "interpreter": {
    "hash": "a7b548bd16bef9d495628a1c6651271a7c12b718ea5abaecda611dedfe6e1cbd"
   }
  }
 },
 "nbformat": 4,
 "nbformat_minor": 2
}
