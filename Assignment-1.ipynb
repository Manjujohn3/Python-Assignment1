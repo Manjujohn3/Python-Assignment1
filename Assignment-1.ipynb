{
 "cells": [
  {
   "cell_type": "markdown",
   "metadata": {},
   "source": [
    "### Assignment-1 ###"
   ]
  },
  {
   "cell_type": "markdown",
   "metadata": {},
   "source": [
    "### Problem 1(Variables) \n",
    "1.  Write a program to print the following string in a specific format"
   ]
  },
  {
   "cell_type": "markdown",
   "metadata": {},
   "source": [
    "Use print statement and use \\n for new line"
   ]
  },
  {
   "cell_type": "code",
   "execution_count": 7,
   "metadata": {},
   "outputs": [
    {
     "name": "stdout",
     "output_type": "stream",
     "text": [
      "Twinkle,twinkle,little star,\n",
      "  How i wonder what you are!\n",
      "  Up above the world so high,\n",
      "\tLike a diamond in the sky.\n",
      "Twinkle,twinkle,little star,\n",
      "How i wonder what you are\n"
     ]
    }
   ],
   "source": [
    "print ('''Twinkle,twinkle,little star,\\n  How i wonder what you are!\\n  Up above the world so high,\\n\\tLike a diamond in the sky.\\nTwinkle,twinkle,little star,\\nHow i wonder what you are''')\n"
   ]
  },
  {
   "cell_type": "markdown",
   "metadata": {},
   "source": [
    "### Problem 2(Numbers) \n",
    "Write a python program which accepts the radius of a circle from the user and compute the area"
   ]
  },
  {
   "cell_type": "markdown",
   "metadata": {},
   "source": [
    "Declare the variables then use the equation 3.14*r*r to calculate the area of circle, then print the area."
   ]
  },
  {
   "cell_type": "code",
   "execution_count": 9,
   "metadata": {},
   "outputs": [
    {
     "name": "stdout",
     "output_type": "stream",
     "text": [
      "Area of the cicle is: 12.56\n"
     ]
    }
   ],
   "source": [
    "r = int(input(\"enter the radius:\"))\n",
    "area = 3.14*r*r\n",
    "print(\"Area of the cicle is:\",area)"
   ]
  },
  {
   "cell_type": "markdown",
   "metadata": {},
   "source": [
    "### Problem 3\n",
    "Find the pizza size which gives more profit"
   ]
  },
  {
   "cell_type": "markdown",
   "metadata": {},
   "source": [
    "Calculate the area both pizzas. Compare the areas of both and the pizza with greatest area gives more profit."
   ]
  },
  {
   "cell_type": "code",
   "execution_count": 6,
   "metadata": {},
   "outputs": [
    {
     "name": "stdout",
     "output_type": "stream",
     "text": [
      "18 degree pizza is more profitable\n"
     ]
    }
   ],
   "source": [
    "pizza_1=18\n",
    "pizza_2=12\n",
    "radius1=pizza_1/2\n",
    "radius2=pizza_2/2\n",
    "area_1=3.14*(radius1*radius1)\n",
    "area_2=3.14*(radius2*radius2)\n",
    "totalArea_2=area_2*2\n",
    "if area_1 > totalArea_2:\n",
    "  print(\"18 degree pizza is more profitable\")\n",
    "else:\n",
    "  print(\"12 degree pizza is more profitable\")"
   ]
  }
 ],
 "metadata": {
  "kernelspec": {
   "display_name": "Python 3.10.7 64-bit",
   "language": "python",
   "name": "python3"
  },
  "language_info": {
   "codemirror_mode": {
    "name": "ipython",
    "version": 3
   },
   "file_extension": ".py",
   "mimetype": "text/x-python",
   "name": "python",
   "nbconvert_exporter": "python",
   "pygments_lexer": "ipython3",
   "version": "3.10.7"
  },
  "orig_nbformat": 4,
  "vscode": {
   "interpreter": {
    "hash": "ed183e1f5966c57f9c41620d53f0cee5cdcee8fdd7536f3a2eb927f1180523b7"
   }
  }
 },
 "nbformat": 4,
 "nbformat_minor": 2
}
