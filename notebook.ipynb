{
 "cells": [
  {
   "cell_type": "markdown",
   "metadata": {},
   "source": [
    "### Workout-1 ###"
   ]
  },
  {
   "cell_type": "markdown",
   "metadata": {},
   "source": [
    "### problem 1(Variables) \n",
    "Write a program to print the following string in a specific format"
   ]
  },
  {
   "cell_type": "code",
   "execution_count": 16,
   "metadata": {},
   "outputs": [
    {
     "name": "stdout",
     "output_type": "stream",
     "text": [
      "Twinkle,twinkle,little star,\n",
      " How i wonder what you are!\n",
      "\t Up above the world so high,\n",
      "\tLike a diamond in the sky.\n",
      "Twinkle,twinkle,little star,\n",
      "How i wonder what you are\n"
     ]
    }
   ],
   "source": [
    "print ('''Twinkle,twinkle,little star,\\n How i wonder what you are!\\n\\t Up above the world so high,\\n\\tLike a diamond in the sky.\\nTwinkle,twinkle,little star,\\nHow i wonder what you are''')"
   ]
  },
  {
   "cell_type": "markdown",
   "metadata": {},
   "source": [
    "### problem 2(Numbers) \n",
    "Write a python program which accepts the radius of a circle from the user and compute the area"
   ]
  },
  {
   "cell_type": "code",
   "execution_count": 18,
   "metadata": {},
   "outputs": [
    {
     "name": "stdout",
     "output_type": "stream",
     "text": [
      "Area of the cicle is: 78.5\n"
     ]
    }
   ],
   "source": [
    "r = int(input(\"enter the radius:\"))\n",
    "area = 3.14*r*r\n",
    "print(\"Area of the cicle is:\",area)"
   ]
  },
  {
   "cell_type": "code",
   "execution_count": 2,
   "metadata": {},
   "outputs": [
    {
     "data": {
      "text/plain": [
       "10"
      ]
     },
     "execution_count": 2,
     "metadata": {},
     "output_type": "execute_result"
    }
   ],
   "source": [
    "a=10\n",
    "b=5\n",
    "a"
   ]
  },
  {
   "cell_type": "code",
   "execution_count": 14,
   "metadata": {},
   "outputs": [
    {
     "name": "stdout",
     "output_type": "stream",
     "text": [
      "this is italian\n"
     ]
    }
   ],
   "source": [
    "indian = [\"butter chicken\",\"dosa\",\"idli\",\"chappathy\",\"biriyani\",\"sambar\",\"egg curry\"]\n",
    "italian= [\"pizza\",\"pasta\",\"spagetty\"]\n",
    "arabian= [\"shawarma\",\"shawayi\",\"alfam\",\"tandoori\"]\n",
    "\n",
    "item =input(\"enter choice:\")\n",
    "if( item in indian):\n",
    "    print(\"this is indian dish\")\n",
    "elif(item in italian):\n",
    "    print(\"this is italian\")\n",
    "elif(item in arabian):\n",
    "    print(\"dish is arabian\")\n",
    "else:\n",
    "    print(\"your item is not available\")"
   ]
  }
 ],
 "metadata": {
  "kernelspec": {
   "display_name": "Python 3.10.7 64-bit",
   "language": "python",
   "name": "python3"
  },
  "language_info": {
   "codemirror_mode": {
    "name": "ipython",
    "version": 3
   },
   "file_extension": ".py",
   "mimetype": "text/x-python",
   "name": "python",
   "nbconvert_exporter": "python",
   "pygments_lexer": "ipython3",
   "version": "3.10.7"
  },
  "orig_nbformat": 4,
  "vscode": {
   "interpreter": {
    "hash": "ed183e1f5966c57f9c41620d53f0cee5cdcee8fdd7536f3a2eb927f1180523b7"
   }
  }
 },
 "nbformat": 4,
 "nbformat_minor": 2
}
